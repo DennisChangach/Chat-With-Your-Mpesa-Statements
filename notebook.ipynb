{
 "cells": [
  {
   "cell_type": "markdown",
   "metadata": {},
   "source": [
    "# Chat with your Mpesa Statements\n",
    "\n",
    "- Load and Pre-Process the CSV to get a usable dataframe\n",
    "- Use Pandas AI and Google PALM to explore the dataframe"
   ]
  },
  {
   "cell_type": "code",
   "execution_count": 138,
   "metadata": {},
   "outputs": [],
   "source": [
    "#importing the necessary dependencies\n",
    "import pandas as pd\n",
    "import PyPDF2\n",
    "import tabula\n",
    "import datetime\n",
    "import plotly.express as px\n",
    "import plotly.graph_objects as go\n",
    "from millify import millify"
   ]
  },
  {
   "cell_type": "code",
   "execution_count": 28,
   "metadata": {},
   "outputs": [],
   "source": [
    "#from tabula import read_pdf"
   ]
  },
  {
   "cell_type": "markdown",
   "metadata": {},
   "source": [
    "Mpesa Statement Details"
   ]
  },
  {
   "cell_type": "code",
   "execution_count": 17,
   "metadata": {},
   "outputs": [],
   "source": [
    "# Getting the PDF password\n",
    "pdf_password = \"453728\"\n",
    "pdf_path = \"Documents\\mpesa_statement.pdf\""
   ]
  },
  {
   "cell_type": "markdown",
   "metadata": {},
   "source": [
    "### Data PreProcessing"
   ]
  },
  {
   "cell_type": "markdown",
   "metadata": {},
   "source": [
    "Descrypting the PDF files"
   ]
  },
  {
   "cell_type": "code",
   "execution_count": 14,
   "metadata": {},
   "outputs": [
    {
     "name": "stdout",
     "output_type": "stream",
     "text": [
      "PDF successfully decrypted.\n"
     ]
    }
   ],
   "source": [
    "# Open the PDF file in binary read mode\n",
    "with open(pdf_path, \"rb\") as pdf_file:\n",
    "    # Create a PDF object\n",
    "    pdf_reader = PyPDF2.PdfReader(pdf_file)\n",
    "\n",
    "    # Check if the PDF is encrypted\n",
    "    if pdf_reader.is_encrypted:\n",
    "        # Attempt to decrypt the PDF with the password\n",
    "        if pdf_reader.decrypt(pdf_password):\n",
    "            print(\"PDF successfully decrypted.\")\n",
    "        else:\n",
    "            print(\"Failed to decrypt the PDF. Please check the password.\")\n",
    "            exit(1)"
   ]
  },
  {
   "cell_type": "markdown",
   "metadata": {},
   "source": [
    "Extracting Tables from the PDF Document"
   ]
  },
  {
   "cell_type": "code",
   "execution_count": 29,
   "metadata": {},
   "outputs": [],
   "source": [
    "#tabula.read_pdf()"
   ]
  },
  {
   "cell_type": "markdown",
   "metadata": {},
   "source": [
    "### Loading the Cleaned Mpesa Statement"
   ]
  },
  {
   "cell_type": "code",
   "execution_count": 43,
   "metadata": {},
   "outputs": [
    {
     "name": "stderr",
     "output_type": "stream",
     "text": [
      "c:\\Users\\ADMIN\\Documents\\Data Analytics\\Machine Learning\\NLP\\NLP Projects\\Chat_with_Mpesa_Statements\\venv\\lib\\site-packages\\IPython\\core\\formatters.py:347: FutureWarning: Index.format is deprecated and will be removed in a future version. Convert using index.astype(str) or index.map(formatter) instead.\n",
      "  return method()\n",
      "c:\\Users\\ADMIN\\Documents\\Data Analytics\\Machine Learning\\NLP\\NLP Projects\\Chat_with_Mpesa_Statements\\venv\\lib\\site-packages\\IPython\\core\\formatters.py:347: FutureWarning: RangeIndex.format is deprecated and will be removed in a future version. Convert using index.astype(str) or index.map(formatter) instead.\n",
      "  return method()\n"
     ]
    },
    {
     "data": {
      "text/html": [
       "<div>\n",
       "<style scoped>\n",
       "    .dataframe tbody tr th:only-of-type {\n",
       "        vertical-align: middle;\n",
       "    }\n",
       "\n",
       "    .dataframe tbody tr th {\n",
       "        vertical-align: top;\n",
       "    }\n",
       "\n",
       "    .dataframe thead th {\n",
       "        text-align: right;\n",
       "    }\n",
       "</style>\n",
       "<table border=\"1\" class=\"dataframe\">\n",
       "  <thead>\n",
       "    <tr style=\"text-align: right;\">\n",
       "      <th></th>\n",
       "      <th>Receipt No.</th>\n",
       "      <th>Completion Time</th>\n",
       "      <th>Details</th>\n",
       "      <th>Name</th>\n",
       "      <th>Transaction_Type</th>\n",
       "      <th>Paid In</th>\n",
       "      <th>Withdrawn</th>\n",
       "      <th>Balance</th>\n",
       "    </tr>\n",
       "  </thead>\n",
       "  <tbody>\n",
       "    <tr>\n",
       "      <th>0</th>\n",
       "      <td>RKG0HPPVRU</td>\n",
       "      <td>2023-11-16 12:38:02</td>\n",
       "      <td>Pay Bill Charge</td>\n",
       "      <td>Mpesa Charges</td>\n",
       "      <td>Mpesa Charges</td>\n",
       "      <td>0.0</td>\n",
       "      <td>10.0</td>\n",
       "      <td>3161.01</td>\n",
       "    </tr>\n",
       "    <tr>\n",
       "      <th>1</th>\n",
       "      <td>RKG0HPPVRU</td>\n",
       "      <td>2023-11-16 12:38:02</td>\n",
       "      <td>Pay Bill Online to 842038 - DUKAPAY LIMITED Ac...</td>\n",
       "      <td>DUKAPAY LIMITED Acc. IVWN</td>\n",
       "      <td>Pay Bill</td>\n",
       "      <td>0.0</td>\n",
       "      <td>537.0</td>\n",
       "      <td>3171.01</td>\n",
       "    </tr>\n",
       "    <tr>\n",
       "      <th>2</th>\n",
       "      <td>RKF2G4LHY0</td>\n",
       "      <td>2023-11-15 20:04:41</td>\n",
       "      <td>Business Payment from 501901 - KCB 1 via API. ...</td>\n",
       "      <td>KCB  via API. Original conversation ID is AKF...</td>\n",
       "      <td>Bank Payment</td>\n",
       "      <td>5000.0</td>\n",
       "      <td>0.0</td>\n",
       "      <td>5879.01</td>\n",
       "    </tr>\n",
       "    <tr>\n",
       "      <th>3</th>\n",
       "      <td>RKE2CYWEGO</td>\n",
       "      <td>2023-11-14 20:11:34</td>\n",
       "      <td>Merchant Payment Online to 7419895 - JAMES NGA...</td>\n",
       "      <td>JAMES NGANGA MUTURI</td>\n",
       "      <td>Till No</td>\n",
       "      <td>0.0</td>\n",
       "      <td>100.0</td>\n",
       "      <td>944.01</td>\n",
       "    </tr>\n",
       "    <tr>\n",
       "      <th>4</th>\n",
       "      <td>RKE0AJ5MC2</td>\n",
       "      <td>2023-11-14 07:45:28</td>\n",
       "      <td>Customer Transfer to - 2547******298 STEPHEN N...</td>\n",
       "      <td>STEPHEN NDUNGU</td>\n",
       "      <td>Send Money</td>\n",
       "      <td>0.0</td>\n",
       "      <td>70.0</td>\n",
       "      <td>1044.01</td>\n",
       "    </tr>\n",
       "  </tbody>\n",
       "</table>\n",
       "</div>"
      ],
      "text/plain": [
       "  Receipt No.      Completion Time   \n",
       "0  RKG0HPPVRU  2023-11-16 12:38:02  \\\n",
       "1  RKG0HPPVRU  2023-11-16 12:38:02   \n",
       "2  RKF2G4LHY0  2023-11-15 20:04:41   \n",
       "3  RKE2CYWEGO  2023-11-14 20:11:34   \n",
       "4  RKE0AJ5MC2  2023-11-14 07:45:28   \n",
       "\n",
       "                                             Details   \n",
       "0                                    Pay Bill Charge  \\\n",
       "1  Pay Bill Online to 842038 - DUKAPAY LIMITED Ac...   \n",
       "2  Business Payment from 501901 - KCB 1 via API. ...   \n",
       "3  Merchant Payment Online to 7419895 - JAMES NGA...   \n",
       "4  Customer Transfer to - 2547******298 STEPHEN N...   \n",
       "\n",
       "                                                Name Transaction_Type   \n",
       "0                                      Mpesa Charges    Mpesa Charges  \\\n",
       "1                          DUKAPAY LIMITED Acc. IVWN         Pay Bill   \n",
       "2   KCB  via API. Original conversation ID is AKF...     Bank Payment   \n",
       "3                                JAMES NGANGA MUTURI          Till No   \n",
       "4                                     STEPHEN NDUNGU       Send Money   \n",
       "\n",
       "   Paid In  Withdrawn  Balance  \n",
       "0      0.0       10.0  3161.01  \n",
       "1      0.0      537.0  3171.01  \n",
       "2   5000.0        0.0  5879.01  \n",
       "3      0.0      100.0   944.01  \n",
       "4      0.0       70.0  1044.01  "
      ]
     },
     "execution_count": 43,
     "metadata": {},
     "output_type": "execute_result"
    }
   ],
   "source": [
    "#Loading the mpesa csv\n",
    "import pandas as pd\n",
    "df = pd.read_csv('Documents\\mpesa_data.csv')\n",
    "df.head()"
   ]
  },
  {
   "cell_type": "code",
   "execution_count": null,
   "metadata": {},
   "outputs": [],
   "source": []
  },
  {
   "cell_type": "markdown",
   "metadata": {},
   "source": [
    "### Chatting with the Statment: PandasAI\n",
    "- intall the dependencies for pandas AI and Google PALM LLM\n"
   ]
  },
  {
   "cell_type": "code",
   "execution_count": null,
   "metadata": {},
   "outputs": [],
   "source": []
  },
  {
   "cell_type": "markdown",
   "metadata": {},
   "source": [
    "### Chatting with the Statement: Google PaLM:\n",
    "- Loading the cleaned mpesa statement\n",
    "- Loading the LLM\n",
    "- Crafting the prompt + Langchain"
   ]
  },
  {
   "cell_type": "code",
   "execution_count": 64,
   "metadata": {},
   "outputs": [
    {
     "data": {
      "text/plain": [
       "True"
      ]
     },
     "execution_count": 64,
     "metadata": {},
     "output_type": "execute_result"
    }
   ],
   "source": [
    "#importing the necessary dependencies\n",
    "import os\n",
    "import matplotlib.pyplot as plt\n",
    "%matplotlib inline\n",
    "from langchain.llms import GooglePalm\n",
    "from langchain.prompts import PromptTemplate\n",
    "from dotenv import load_dotenv\n",
    "load_dotenv()"
   ]
  },
  {
   "cell_type": "code",
   "execution_count": 39,
   "metadata": {},
   "outputs": [
    {
     "name": "stderr",
     "output_type": "stream",
     "text": [
      "c:\\Users\\ADMIN\\Documents\\Data Analytics\\Machine Learning\\NLP\\NLP Projects\\Chat_with_Mpesa_Statements\\venv\\lib\\site-packages\\tqdm\\auto.py:21: TqdmWarning: IProgress not found. Please update jupyter and ipywidgets. See https://ipywidgets.readthedocs.io/en/stable/user_install.html\n",
      "  from .autonotebook import tqdm as notebook_tqdm\n"
     ]
    }
   ],
   "source": [
    "#loading g the llm\n",
    "llm=GooglePalm(google_api_key=os.environ['GOOGLE_API_KEY'],temperature=0.6)"
   ]
  },
  {
   "cell_type": "code",
   "execution_count": 44,
   "metadata": {},
   "outputs": [
    {
     "name": "stdout",
     "output_type": "stream",
     "text": [
      "<class 'pandas.core.frame.DataFrame'>\n",
      "RangeIndex: 3508 entries, 0 to 3507\n",
      "Data columns (total 8 columns):\n",
      " #   Column            Non-Null Count  Dtype  \n",
      "---  ------            --------------  -----  \n",
      " 0   Receipt No.       3508 non-null   object \n",
      " 1   Completion Time   3508 non-null   object \n",
      " 2   Details           3508 non-null   object \n",
      " 3   Name              3508 non-null   object \n",
      " 4   Transaction_Type  3508 non-null   object \n",
      " 5   Paid In           3508 non-null   float64\n",
      " 6   Withdrawn         3508 non-null   float64\n",
      " 7   Balance           3508 non-null   float64\n",
      "dtypes: float64(3), object(5)\n",
      "memory usage: 219.4+ KB\n"
     ]
    }
   ],
   "source": [
    "df.info()"
   ]
  },
  {
   "cell_type": "code",
   "execution_count": 51,
   "metadata": {},
   "outputs": [
    {
     "name": "stdout",
     "output_type": "stream",
     "text": [
      "<class 'pandas.core.frame.DataFrame'>\n",
      "RangeIndex: 3508 entries, 0 to 3507\n",
      "Data columns (total 8 columns):\n",
      " #   Column            Non-Null Count  Dtype  \n",
      "---  ------            --------------  -----  \n",
      " 0   Receipt No.       3508 non-null   object \n",
      " 1   Completion Time   3508 non-null   object \n",
      " 2   Details           3508 non-null   object \n",
      " 3   Name              3508 non-null   object \n",
      " 4   Transaction_Type  3508 non-null   object \n",
      " 5   Paid In           3508 non-null   float64\n",
      " 6   Withdrawn         3508 non-null   float64\n",
      " 7   Balance           3508 non-null   float64\n",
      "dtypes: float64(3), object(5)\n",
      "memory usage: 219.4+ KB\n",
      "None\n"
     ]
    }
   ],
   "source": [
    "df_info = print(df.info())\n"
   ]
  },
  {
   "cell_type": "code",
   "execution_count": 54,
   "metadata": {},
   "outputs": [
    {
     "name": "stdout",
     "output_type": "stream",
     "text": [
      "None\n"
     ]
    }
   ],
   "source": [
    "print(df_info)"
   ]
  },
  {
   "cell_type": "code",
   "execution_count": 55,
   "metadata": {},
   "outputs": [
    {
     "data": {
      "text/plain": [
       "Index(['Receipt No.', 'Completion Time', 'Details', 'Name', 'Transaction_Type',\n",
       "       'Paid In', 'Withdrawn', 'Balance'],\n",
       "      dtype='object')"
      ]
     },
     "execution_count": 55,
     "metadata": {},
     "output_type": "execute_result"
    }
   ],
   "source": [
    "df.columns"
   ]
  },
  {
   "cell_type": "code",
   "execution_count": 69,
   "metadata": {},
   "outputs": [],
   "source": [
    "my_prompt = \"\"\"\n",
    "You are a financial advisor with knowdlege analysing data using pandas. \n",
    "You will be provided with the columns details of a pandas data frame and you\n",
    "should generate the result based on the user's question. \n",
    "\n",
    "Given input question, first create a syntatically correct pandas syntax and return the syntax\n",
    "as an executable python code. \n",
    "\n",
    "The dataframe name is df and only use the columns in the dataframe.\\n\\n\n",
    "\n",
    "The following are the column names: 'Receipt No.', 'Completion Time', 'Details', 'Name', 'Transaction_Type',\n",
    "'Paid In', 'Withdrawn', 'Balance'\n",
    "\n",
    "\"\"\""
   ]
  },
  {
   "cell_type": "code",
   "execution_count": 71,
   "metadata": {},
   "outputs": [
    {
     "data": {
      "text/plain": [
       "\"```python\\nimport pandas as pd\\r\\ndf = pd.read_csv('transactions.csv')\\r\\ndf['Paid In'].plot()\\n```\""
      ]
     },
     "execution_count": 71,
     "metadata": {},
     "output_type": "execute_result"
    }
   ],
   "source": [
    "question = \"Plot a graph of how much money did I receive?\"\n",
    "llm.invoke(f\"Here's the users question {question} and the prompt template you should use {my_prompt}\")"
   ]
  },
  {
   "cell_type": "code",
   "execution_count": 66,
   "metadata": {},
   "outputs": [],
   "source": [
    "#df.groupby('Name')['Paid In'].sum().plot.bar()"
   ]
  },
  {
   "cell_type": "code",
   "execution_count": 80,
   "metadata": {},
   "outputs": [
    {
     "data": {
      "text/plain": [
       "array(['Mpesa Charges', 'Pay Bill', 'Bank Payment', 'Till No',\n",
       "       'Send Money', 'Airtime Purchase', 'Receive Money', 'Pochi',\n",
       "       'Other', 'M-Shwari Loan', 'Mshwari Withdraw', 'Mshwari Deposit',\n",
       "       'Cash Withdrawal', 'Customer Deposit'], dtype=object)"
      ]
     },
     "execution_count": 80,
     "metadata": {},
     "output_type": "execute_result"
    }
   ],
   "source": [
    "df['Transaction_Type'].unique()"
   ]
  },
  {
   "cell_type": "markdown",
   "metadata": {},
   "source": [
    "Using PromptTemplate & Chains"
   ]
  },
  {
   "cell_type": "code",
   "execution_count": 67,
   "metadata": {},
   "outputs": [],
   "source": [
    "#importing prompt Template and chain dependencies\n",
    "from langchain.prompts import PromptTemplate\n",
    "from langchain.chains import LLMChain"
   ]
  },
  {
   "cell_type": "code",
   "execution_count": 95,
   "metadata": {},
   "outputs": [],
   "source": [
    "my_prompt = \"\"\"\n",
    "You are a financial advisor with knowdlege analysing data using pandas. \n",
    "You will be provided with the columns details of a pandas data frame and you\n",
    "should generate the result based on the user's question. The dataframe conisists of transactions\n",
    "made by a user on Mpesa platform, which is a mobile money platform. \n",
    "\n",
    "Given input question, first create a syntatically correct pandas syntax and return the syntax\n",
    "as an executable python code. \n",
    "\n",
    "The dataframe name is df and only use the columns in the dataframe.\\n\\n\n",
    "\n",
    "The following are the column names and their descriptions:\n",
    "'Receipt No.': Unique identifier for each mpesa transaction done. \n",
    "'Completion Time': The timestamp for when the transaction was completed\n",
    "'Details': The details of the transaction\n",
    "'Name': The Account Name for the transaction done\n",
    "'Transaction_Type': The type of transaction; These are the type of transactions:['Mpesa Charges', 'Pay Bill', 'Bank Payment', 'Till No',\n",
    "       'Send Money', 'Airtime Purchase', 'Receive Money', 'Pochi',\n",
    "       'Other', 'M-Shwari Loan', 'Mshwari Withdraw', 'Mshwari Deposit',\n",
    "       'Cash Withdrawal', 'Customer Deposit']\n",
    "'Paid In': The amount that was received in their Mpesa Account. \n",
    "'Withdrawn': the Amount that was withdrawn or sent from their account\n",
    "'Balance': the balance remaining after the transaction was made\n",
    "\n",
    "\n",
    "Here's the dataframe information: {df_info}\\n\n",
    "\n",
    "Question: {question}\\n\n",
    "\n",
    "Answer: Return the answer as a dictionary like this: 'Answer':'pandas syntax'\n",
    "\n",
    "\"\"\""
   ]
  },
  {
   "cell_type": "code",
   "execution_count": 96,
   "metadata": {},
   "outputs": [
    {
     "name": "stdout",
     "output_type": "stream",
     "text": [
      "<class 'pandas.core.frame.DataFrame'>\n",
      "RangeIndex: 3508 entries, 0 to 3507\n",
      "Data columns (total 8 columns):\n",
      " #   Column            Non-Null Count  Dtype  \n",
      "---  ------            --------------  -----  \n",
      " 0   Receipt No.       3508 non-null   object \n",
      " 1   Completion Time   3508 non-null   object \n",
      " 2   Details           3508 non-null   object \n",
      " 3   Name              3508 non-null   object \n",
      " 4   Transaction_Type  3508 non-null   object \n",
      " 5   Paid In           3508 non-null   float64\n",
      " 6   Withdrawn         3508 non-null   float64\n",
      " 7   Balance           3508 non-null   float64\n",
      "dtypes: float64(3), object(5)\n",
      "memory usage: 219.4+ KB\n"
     ]
    }
   ],
   "source": [
    "#Getting the dataframe info\n",
    "df.info()"
   ]
  },
  {
   "cell_type": "code",
   "execution_count": 88,
   "metadata": {},
   "outputs": [],
   "source": [
    "df_info = \"\"\"\n",
    "Data columns (total 8 columns):\n",
    " #   Column            Non-Null Count  Dtype  \n",
    "---  ------            --------------  -----  \n",
    " 0   Receipt No.       3508 non-null   object \n",
    " 1   Completion Time   3508 non-null   object \n",
    " 2   Details           3508 non-null   object \n",
    " 3   Name              3508 non-null   object \n",
    " 4   Transaction_Type  3508 non-null   object \n",
    " 5   Paid In           3508 non-null   float64\n",
    " 6   Withdrawn         3508 non-null   float64\n",
    " 7   Balance           3508 non-null   float64\n",
    "\"\"\""
   ]
  },
  {
   "cell_type": "code",
   "execution_count": 97,
   "metadata": {},
   "outputs": [],
   "source": [
    "#Defining the prompt template\n",
    "prompt = PromptTemplate(input_variables=['question','df_info'],template=my_prompt)"
   ]
  },
  {
   "cell_type": "code",
   "execution_count": 98,
   "metadata": {},
   "outputs": [],
   "source": [
    "#Defining the LLM Chain\n",
    "chain = LLMChain(llm=llm,prompt=prompt,verbose=True)"
   ]
  },
  {
   "cell_type": "code",
   "execution_count": 99,
   "metadata": {},
   "outputs": [
    {
     "name": "stdout",
     "output_type": "stream",
     "text": [
      "\n",
      "\n",
      "\u001b[1m> Entering new LLMChain chain...\u001b[0m\n",
      "Prompt after formatting:\n",
      "\u001b[32;1m\u001b[1;3m\n",
      "You are a financial advisor with knowdlege analysing data using pandas. \n",
      "You will be provided with the columns details of a pandas data frame and you\n",
      "should generate the result based on the user's question. The dataframe conisists of transactions\n",
      "made by a user on Mpesa platform, which is a mobile money platform. \n",
      "\n",
      "Given input question, first create a syntatically correct pandas syntax and return the syntax\n",
      "as an executable python code. \n",
      "\n",
      "The dataframe name is df and only use the columns in the dataframe.\n",
      "\n",
      "\n",
      "\n",
      "The following are the column names and their descriptions:\n",
      "'Receipt No.': Unique identifier for each mpesa transaction done. \n",
      "'Completion Time': The timestamp for when the transaction was completed\n",
      "'Details': The details of the transaction\n",
      "'Name': The Account Name for the transaction done\n",
      "'Transaction_Type': The type of transaction; These are the type of transactions:['Mpesa Charges', 'Pay Bill', 'Bank Payment', 'Till No',\n",
      "       'Send Money', 'Airtime Purchase', 'Receive Money', 'Pochi',\n",
      "       'Other', 'M-Shwari Loan', 'Mshwari Withdraw', 'Mshwari Deposit',\n",
      "       'Cash Withdrawal', 'Customer Deposit']\n",
      "'Paid In': The amount that was received in their Mpesa Account. \n",
      "'Withdrawn': the Amount that was withdrawn or sent from their account\n",
      "'Balance': the balance remaining after the transaction was made\n",
      "\n",
      "\n",
      "Here's the dataframe information: \n",
      "Data columns (total 8 columns):\n",
      " #   Column            Non-Null Count  Dtype  \n",
      "---  ------            --------------  -----  \n",
      " 0   Receipt No.       3508 non-null   object \n",
      " 1   Completion Time   3508 non-null   object \n",
      " 2   Details           3508 non-null   object \n",
      " 3   Name              3508 non-null   object \n",
      " 4   Transaction_Type  3508 non-null   object \n",
      " 5   Paid In           3508 non-null   float64\n",
      " 6   Withdrawn         3508 non-null   float64\n",
      " 7   Balance           3508 non-null   float64\n",
      "\n",
      "\n",
      "\n",
      "Question: How much did i send?\n",
      "\n",
      "\n",
      "Answer: Return the answer as a dictionary like this: 'Answer':'pandas syntax'\n",
      "\n",
      "\u001b[0m\n",
      "\n",
      "\u001b[1m> Finished chain.\u001b[0m\n"
     ]
    }
   ],
   "source": [
    "response = chain.run(question=\"How much did i send?\",df_info=df_info)"
   ]
  },
  {
   "cell_type": "code",
   "execution_count": 102,
   "metadata": {},
   "outputs": [
    {
     "data": {
      "text/plain": [
       "\"Answer: 'df.Withdrawn.sum()'\""
      ]
     },
     "execution_count": 102,
     "metadata": {},
     "output_type": "execute_result"
    }
   ],
   "source": [
    "response"
   ]
  },
  {
   "cell_type": "markdown",
   "metadata": {},
   "source": [
    "Extracting the python code from the response"
   ]
  },
  {
   "cell_type": "code",
   "execution_count": 152,
   "metadata": {},
   "outputs": [],
   "source": [
    "import re\n",
    "\n",
    "#Defining function\n",
    "def extract_code(response):\n",
    "\n",
    "    # Extract the Python code using regular expressions\n",
    "    pattern = r\"'(.*?)'\"\n",
    "    match = re.search(pattern, reponse['Answer'])\n",
    "\n",
    "    # Use re.search to find the code portion within single quotes\n",
    "    match = re.search(pattern, response)\n",
    "\n",
    "    # Check if a match is found\n",
    "    if match:\n",
    "        # Extract the Python code\n",
    "        python_code = match.group(1)\n",
    "        print(\"Extracted Python code:\", python_code)\n",
    "    else:\n",
    "        print(\"No Python code found in the string.\")\n",
    "    return python_code"
   ]
  },
  {
   "cell_type": "code",
   "execution_count": 153,
   "metadata": {},
   "outputs": [
    {
     "name": "stdout",
     "output_type": "stream",
     "text": [
      "Extracted Python code: df.Withdrawn.sum()\n",
      "4682310.08\n"
     ]
    }
   ],
   "source": [
    "code = extract_code(response)\n",
    "print(eval(code))"
   ]
  },
  {
   "cell_type": "markdown",
   "metadata": {},
   "source": [
    "### Using Few Shot Learning"
   ]
  },
  {
   "cell_type": "code",
   "execution_count": null,
   "metadata": {},
   "outputs": [],
   "source": [
    "# prompt to generate few shot examples from Chat GPT; Generate 20 examples\n",
    "\n",
    "\"\"\"\n",
    "You are a financial advisor with knowdlege analysing data using pandas. \n",
    "You will be provided with the columns details of a pandas data frame and you\n",
    "should generate the result based on the user's question. The dataframe conisists of transactions\n",
    "made by a user on Mpesa platform, which is a mobile money platform. \n",
    "\n",
    "Given input question, first create a syntatically correct pandas syntax and return the syntax\n",
    "as an executable python code. \n",
    "\n",
    "The dataframe name is df and only use the columns in the dataframe.\\n\\n\n",
    "\n",
    "The following are the column names and their descriptions:\n",
    "'Receipt No.': Unique identifier for each mpesa transaction done. \n",
    "'Completion Time': The timestamp for when the transaction was completed\n",
    "'Details': The details of the transaction\n",
    "'Name': The Account Name for the transaction done\n",
    "'Transaction_Type': The type of transaction; These are the type of transactions:['Mpesa Charges', 'Pay Bill', 'Bank Payment', 'Till No',\n",
    "       'Send Money', 'Airtime Purchase', 'Receive Money', 'Pochi',\n",
    "       'Other', 'M-Shwari Loan', 'Mshwari Withdraw', 'Mshwari Deposit',\n",
    "       'Cash Withdrawal', 'Customer Deposit']\n",
    "'Paid In': The amount that was received in their Mpesa Account. \n",
    "'Withdrawn': the Amount that was withdrawn or sent from their account\n",
    "'Balance': the balance remaining after the transaction was made\n",
    "\n",
    "\n",
    "Here's the dataframe information: \n",
    "Data columns (total 8 columns):\n",
    " #   Column            Non-Null Count  Dtype  \n",
    "---  ------            --------------  -----  \n",
    " 0   Receipt No.       3508 non-null   object \n",
    " 1   Completion Time   3508 non-null   object \n",
    " 2   Details           3508 non-null   object \n",
    " 3   Name              3508 non-null   object \n",
    " 4   Transaction_Type  3508 non-null   object \n",
    " 5   Paid In           3508 non-null   float64\n",
    " 6   Withdrawn         3508 non-null   float64\n",
    " 7   Balance           3508 non-null   float64\n",
    "\n",
    "\n",
    "I want you to generate 20 examples ranging from simple to difficult also including\n",
    "visualization questions using pandas. \n",
    "\n",
    "Answer: Return the answer as a dictionary in the following format: \n",
    "\n",
    "'Question: \"The example questions goes here'\n",
    "'Answer':'pandas syntax goes here'\n",
    "\n",
    "\"\"\""
   ]
  },
  {
   "cell_type": "code",
   "execution_count": 114,
   "metadata": {},
   "outputs": [],
   "source": [
    "from langchain.prompts.few_shot import FewShotPromptTemplate\n",
    "from langchain.prompts.prompt import PromptTemplate\n",
    "from few_shots import few_shots"
   ]
  },
  {
   "cell_type": "markdown",
   "metadata": {},
   "source": [
    "**Create a formatter for the few-shot examples**\n",
    "\n",
    "Configure a formatter that will format the few-shot examples into a string. This formatter should be a PromptTemplate object."
   ]
  },
  {
   "cell_type": "code",
   "execution_count": 115,
   "metadata": {},
   "outputs": [],
   "source": [
    "#defiing the prompt\n",
    "example_prompt = PromptTemplate(\n",
    "    input_variables=['Question','Answer'],\n",
    "     template=\"\\nQuestion: {Question}\\nAnswer: {Answer}\",\n",
    "\n",
    ")"
   ]
  },
  {
   "cell_type": "markdown",
   "metadata": {},
   "source": [
    "**Using the example Selector**\n",
    "\n",
    "The example selector is used instead of feeding the few shot examples directly int the template. We use the SemanticSimilarityExampleSelector class which selects few-shot examples based on their similarity to the input. It uses an embedding model to compute the similarity between the input and the few-shot examples, as well as a vector store to perform the nearest neighbour search"
   ]
  },
  {
   "cell_type": "code",
   "execution_count": 118,
   "metadata": {},
   "outputs": [],
   "source": [
    "#Using Google \n",
    "from langchain_google_genai import GoogleGenerativeAIEmbeddings\n",
    "embeddings=GoogleGenerativeAIEmbeddings(model='models/embedding-001')"
   ]
  },
  {
   "cell_type": "code",
   "execution_count": 119,
   "metadata": {},
   "outputs": [
    {
     "name": "stdout",
     "output_type": "stream",
     "text": [
      "[{'Question': 'Can you show me the first 5 transactions I made on Mpesa?', 'Answer': 'df.head(5)'}, {'Question': 'How about the last 10 transactions? Can you display those?', 'Answer': 'df.tail(10)'}, {'Question': \"I want to know how many transactions I've made in total. Could you count them for me?\", 'Answer': 'len(df)'}, {'Question': \"What is the largest amount of money I've received in a single transaction?\", 'Answer': 'df[\"Paid In\"].max()'}, {'Question': 'On average, how much do I withdraw per transaction?', 'Answer': 'df[\"Withdrawn\"].mean()'}, {'Question': 'What different types of transactions have I engaged in?', 'Answer': 'df[\"Transaction_Type\"].unique()'}, {'Question': 'Can you show me transactions where I received more than 1000 KES?', 'Answer': 'df[df[\"Paid In\"] > 1000]'}, {'Question': \"I'm curious about transactions involving the name 'John Doe'. Could you fetch those for me?\", 'Answer': 'df[df[\"Name\"] == \"John Doe\"]'}, {'Question': 'How much money do I have in total after all these transactions?', 'Answer': 'df[\"Balance\"].head(1)'}, {'Question': 'Could you provide a breakdown of the number of transactions for each type?', 'Answer': 'df[\"Transaction_Type\"].value_counts()'}, {'Question': 'What is the total amount of money withdrawn for each transaction type?', 'Answer': 'df.groupby(\"Transaction_Type\")[\"Withdrawn\"].sum()'}, {'Question': 'Which transaction was completed first?', 'Answer': 'df[df[\"Completion Time\"] == df[\"Completion Time\"].min()]'}, {'Question': 'How does my average balance vary across different transaction types?', 'Answer': 'df.groupby(\"Transaction_Type\")[\"Balance\"].mean()'}, {'Question': 'Show me transactions that involve a refund.', 'Answer': 'df[df[\"Details\"].str.contains(\"refund\", case=False)]'}, {'Question': 'How many transactions have I conducted for each account name?', 'Answer': 'df[\"Name\"].value_counts()'}, {'Question': \"Can you plot a histogram of the amounts I've received?\", 'Answer': 'df[\"Paid In\"].plot.hist()'}, {'Question': 'Can you show the distribution of transaction types using a pie chart?', 'Answer': 'df[\"Transaction_Type\"].value_counts().plot.pie()'}, {'Question': 'Could you visualize how my balance has changed over time?', 'Answer': 'df.plot(x=\"Completion Time\", y=\"Balance\", kind=\"line\")'}, {'Question': 'Create a bar chart comparing the total amounts withdrawn for each transaction type.', 'Answer': 'df.groupby(\"Transaction_Type\")[\"Withdrawn\"].sum().plot(kind=\"bar\")'}, {'Question': \"Could you generate a scatter plot of the amounts I've received versus the amounts I've withdrawn?\", 'Answer': 'df.plot(x=\"Paid In\", y=\"Withdrawn\", kind=\"scatter\")'}]\n"
     ]
    }
   ],
   "source": [
    "#Need to combine all values in the few shot examples into one sentence\n",
    "from few_shots import few_shots\n",
    "print(few_shots)\n",
    "# creating a blob of all the sentences\n",
    "to_vectorize = [\" \".join(example.values()) for example in few_shots]"
   ]
  },
  {
   "cell_type": "code",
   "execution_count": 121,
   "metadata": {},
   "outputs": [],
   "source": [
    "#Using the FAISS vector database\n",
    "from langchain.vectorstores import FAISS #vector embeddngs\n",
    "\n",
    "#generating a vector store: \n",
    "vector_store=FAISS.from_texts(to_vectorize, embeddings, metadatas=few_shots)"
   ]
  },
  {
   "cell_type": "code",
   "execution_count": 122,
   "metadata": {},
   "outputs": [
    {
     "data": {
      "text/plain": [
       "[{'Question': 'What is the total amount of money withdrawn for each transaction type?',\n",
       "  'Answer': 'df.groupby(\"Transaction_Type\")[\"Withdrawn\"].sum()'},\n",
       " {'Question': 'On average, how much do I withdraw per transaction?',\n",
       "  'Answer': 'df[\"Withdrawn\"].mean()'}]"
      ]
     },
     "execution_count": 122,
     "metadata": {},
     "output_type": "execute_result"
    }
   ],
   "source": [
    "#Checking sematic similarity: # Helping to pull similar looking queries\n",
    "from langchain.prompts import SemanticSimilarityExampleSelector\n",
    "\n",
    "example_selector = SemanticSimilarityExampleSelector(\n",
    "    vectorstore = vector_store,\n",
    "    k=2, #number of examples\n",
    ")\n",
    "\n",
    "example_selector.select_examples({\"Question\": \"What is the total amount of money withdrawn?\"})"
   ]
  },
  {
   "cell_type": "markdown",
   "metadata": {},
   "source": [
    "**Creating Few Shot Prompt Template**"
   ]
  },
  {
   "cell_type": "code",
   "execution_count": 159,
   "metadata": {},
   "outputs": [],
   "source": [
    "my_prompt = \"\"\"\n",
    "You are a financial advisor with knowdlege analysing data using pandas. \n",
    "You will be provided with the columns details of a pandas data frame and you\n",
    "should generate the result based on the user's question. The dataframe conisists of transactions\n",
    "made by a user on Mpesa platform, which is a mobile money platform. \n",
    "\n",
    "Given input question, first create a syntatically correct pandas syntax and return the syntax\n",
    "as an executable python code. \n",
    "\n",
    "The dataframe name is df and only use the columns in the dataframe.\\n\\n\n",
    "\n",
    "Pay attention to use current_date = datetime.date.today() to get the current date, if the question involves \"today\".\n",
    "\n",
    "\n",
    "The following are the column names and their descriptions:\n",
    "'Receipt No.': Unique identifier for each mpesa transaction done. \n",
    "'Completion Time': The timestamp for when the transaction was completed\n",
    "'Details': The details of the transaction\n",
    "'Name': The Account Name for the transaction done\n",
    "'Transaction_Type': The type of transaction; These are the type of transactions:['Mpesa Charges', 'Pay Bill', 'Bank Payment', 'Till No',\n",
    "       'Send Money', 'Airtime Purchase', 'Receive Money', 'Pochi',\n",
    "       'Other', 'M-Shwari Loan', 'Mshwari Withdraw', 'Mshwari Deposit',\n",
    "       'Cash Withdrawal', 'Customer Deposit']\n",
    "'Paid In': The amount that was received in their Mpesa Account. \n",
    "'Withdrawn': the Amount that was withdrawn or sent from their account\n",
    "'Balance': the balance remaining after the transaction was made\n",
    "\n",
    "Here's the dataframe information: \n",
    "Data columns (total 8 columns):\n",
    " #   Column            Non-Null Count  Dtype  \n",
    "---  ------            --------------  -----  \n",
    " 0   Receipt No.       3508 non-null   object \n",
    " 1   Completion Time   3508 non-null   object \n",
    " 2   Details           3508 non-null   object \n",
    " 3   Name              3508 non-null   object \n",
    " 4   Transaction_Type  3508 non-null   object \n",
    " 5   Paid In           3508 non-null   float64\n",
    " 6   Withdrawn         3508 non-null   float64\n",
    " 7   Balance           3508 non-null   float64\n",
    "\n",
    "Return the answer as a dictionary in the following format \n",
    "Answer: \"{'Answer': 'df.groupby(\"Transaction_Type\")[\"Withdrawn\"].sum()'}\"\n",
    "\n",
    "\"\"\""
   ]
  },
  {
   "cell_type": "code",
   "execution_count": 160,
   "metadata": {},
   "outputs": [],
   "source": [
    "PROMPT_SUFFIX = \"\"\"\n",
    "\n",
    "Question: {input}\\n\n",
    "\n",
    "\"\"\""
   ]
  },
  {
   "cell_type": "code",
   "execution_count": 161,
   "metadata": {},
   "outputs": [],
   "source": [
    "few_shot_prompt = FewShotPromptTemplate(\n",
    "    example_selector=example_selector,\n",
    "    example_prompt=example_prompt,\n",
    "    prefix= my_prompt,\n",
    "    suffix=PROMPT_SUFFIX,\n",
    "    input_variables=['input'],\n",
    ")"
   ]
  },
  {
   "cell_type": "code",
   "execution_count": 162,
   "metadata": {},
   "outputs": [],
   "source": [
    "#creating new chain\n",
    "#Defining the LLM Chain\n",
    "chain = LLMChain(llm=llm,prompt=few_shot_prompt,verbose=True)"
   ]
  },
  {
   "cell_type": "code",
   "execution_count": 163,
   "metadata": {},
   "outputs": [
    {
     "name": "stdout",
     "output_type": "stream",
     "text": [
      "\n",
      "\n",
      "\u001b[1m> Entering new LLMChain chain...\u001b[0m\n"
     ]
    },
    {
     "ename": "ValueError",
     "evalue": "Missing some input keys: {\"'Answer'\"}",
     "output_type": "error",
     "traceback": [
      "\u001b[1;31m---------------------------------------------------------------------------\u001b[0m",
      "\u001b[1;31mValueError\u001b[0m                                Traceback (most recent call last)",
      "Cell \u001b[1;32mIn[163], line 1\u001b[0m\n\u001b[1;32m----> 1\u001b[0m \u001b[43mchain\u001b[49m\u001b[38;5;241;43m.\u001b[39;49m\u001b[43mrun\u001b[49m\u001b[43m(\u001b[49m\u001b[38;5;28;43minput\u001b[39;49m\u001b[38;5;241;43m=\u001b[39;49m\u001b[38;5;124;43m\"\u001b[39;49m\u001b[38;5;124;43mWhat is the total amount of money withdrawn\u001b[39;49m\u001b[38;5;124;43m\"\u001b[39;49m\u001b[43m)\u001b[49m\n",
      "File \u001b[1;32mc:\\Users\\ADMIN\\Documents\\Data Analytics\\Machine Learning\\NLP\\NLP Projects\\Chat_with_Mpesa_Statements\\venv\\lib\\site-packages\\langchain_core\\_api\\deprecation.py:145\u001b[0m, in \u001b[0;36mdeprecated.<locals>.deprecate.<locals>.warning_emitting_wrapper\u001b[1;34m(*args, **kwargs)\u001b[0m\n\u001b[0;32m    143\u001b[0m     warned \u001b[38;5;241m=\u001b[39m \u001b[38;5;28;01mTrue\u001b[39;00m\n\u001b[0;32m    144\u001b[0m     emit_warning()\n\u001b[1;32m--> 145\u001b[0m \u001b[38;5;28;01mreturn\u001b[39;00m wrapped(\u001b[38;5;241m*\u001b[39margs, \u001b[38;5;241m*\u001b[39m\u001b[38;5;241m*\u001b[39mkwargs)\n",
      "File \u001b[1;32mc:\\Users\\ADMIN\\Documents\\Data Analytics\\Machine Learning\\NLP\\NLP Projects\\Chat_with_Mpesa_Statements\\venv\\lib\\site-packages\\langchain\\chains\\base.py:550\u001b[0m, in \u001b[0;36mChain.run\u001b[1;34m(self, callbacks, tags, metadata, *args, **kwargs)\u001b[0m\n\u001b[0;32m    545\u001b[0m     \u001b[38;5;28;01mreturn\u001b[39;00m \u001b[38;5;28mself\u001b[39m(args[\u001b[38;5;241m0\u001b[39m], callbacks\u001b[38;5;241m=\u001b[39mcallbacks, tags\u001b[38;5;241m=\u001b[39mtags, metadata\u001b[38;5;241m=\u001b[39mmetadata)[\n\u001b[0;32m    546\u001b[0m         _output_key\n\u001b[0;32m    547\u001b[0m     ]\n\u001b[0;32m    549\u001b[0m \u001b[38;5;28;01mif\u001b[39;00m kwargs \u001b[38;5;129;01mand\u001b[39;00m \u001b[38;5;129;01mnot\u001b[39;00m args:\n\u001b[1;32m--> 550\u001b[0m     \u001b[38;5;28;01mreturn\u001b[39;00m \u001b[38;5;28;43mself\u001b[39;49m\u001b[43m(\u001b[49m\u001b[43mkwargs\u001b[49m\u001b[43m,\u001b[49m\u001b[43m \u001b[49m\u001b[43mcallbacks\u001b[49m\u001b[38;5;241;43m=\u001b[39;49m\u001b[43mcallbacks\u001b[49m\u001b[43m,\u001b[49m\u001b[43m \u001b[49m\u001b[43mtags\u001b[49m\u001b[38;5;241;43m=\u001b[39;49m\u001b[43mtags\u001b[49m\u001b[43m,\u001b[49m\u001b[43m \u001b[49m\u001b[43mmetadata\u001b[49m\u001b[38;5;241;43m=\u001b[39;49m\u001b[43mmetadata\u001b[49m\u001b[43m)\u001b[49m[\n\u001b[0;32m    551\u001b[0m         _output_key\n\u001b[0;32m    552\u001b[0m     ]\n\u001b[0;32m    554\u001b[0m \u001b[38;5;28;01mif\u001b[39;00m \u001b[38;5;129;01mnot\u001b[39;00m kwargs \u001b[38;5;129;01mand\u001b[39;00m \u001b[38;5;129;01mnot\u001b[39;00m args:\n\u001b[0;32m    555\u001b[0m     \u001b[38;5;28;01mraise\u001b[39;00m \u001b[38;5;167;01mValueError\u001b[39;00m(\n\u001b[0;32m    556\u001b[0m         \u001b[38;5;124m\"\u001b[39m\u001b[38;5;124m`run` supported with either positional arguments or keyword arguments,\u001b[39m\u001b[38;5;124m\"\u001b[39m\n\u001b[0;32m    557\u001b[0m         \u001b[38;5;124m\"\u001b[39m\u001b[38;5;124m but none were provided.\u001b[39m\u001b[38;5;124m\"\u001b[39m\n\u001b[0;32m    558\u001b[0m     )\n",
      "File \u001b[1;32mc:\\Users\\ADMIN\\Documents\\Data Analytics\\Machine Learning\\NLP\\NLP Projects\\Chat_with_Mpesa_Statements\\venv\\lib\\site-packages\\langchain_core\\_api\\deprecation.py:145\u001b[0m, in \u001b[0;36mdeprecated.<locals>.deprecate.<locals>.warning_emitting_wrapper\u001b[1;34m(*args, **kwargs)\u001b[0m\n\u001b[0;32m    143\u001b[0m     warned \u001b[38;5;241m=\u001b[39m \u001b[38;5;28;01mTrue\u001b[39;00m\n\u001b[0;32m    144\u001b[0m     emit_warning()\n\u001b[1;32m--> 145\u001b[0m \u001b[38;5;28;01mreturn\u001b[39;00m wrapped(\u001b[38;5;241m*\u001b[39margs, \u001b[38;5;241m*\u001b[39m\u001b[38;5;241m*\u001b[39mkwargs)\n",
      "File \u001b[1;32mc:\\Users\\ADMIN\\Documents\\Data Analytics\\Machine Learning\\NLP\\NLP Projects\\Chat_with_Mpesa_Statements\\venv\\lib\\site-packages\\langchain\\chains\\base.py:378\u001b[0m, in \u001b[0;36mChain.__call__\u001b[1;34m(self, inputs, return_only_outputs, callbacks, tags, metadata, run_name, include_run_info)\u001b[0m\n\u001b[0;32m    346\u001b[0m \u001b[38;5;250m\u001b[39m\u001b[38;5;124;03m\"\"\"Execute the chain.\u001b[39;00m\n\u001b[0;32m    347\u001b[0m \n\u001b[0;32m    348\u001b[0m \u001b[38;5;124;03mArgs:\u001b[39;00m\n\u001b[1;32m   (...)\u001b[0m\n\u001b[0;32m    369\u001b[0m \u001b[38;5;124;03m        `Chain.output_keys`.\u001b[39;00m\n\u001b[0;32m    370\u001b[0m \u001b[38;5;124;03m\"\"\"\u001b[39;00m\n\u001b[0;32m    371\u001b[0m config \u001b[38;5;241m=\u001b[39m {\n\u001b[0;32m    372\u001b[0m     \u001b[38;5;124m\"\u001b[39m\u001b[38;5;124mcallbacks\u001b[39m\u001b[38;5;124m\"\u001b[39m: callbacks,\n\u001b[0;32m    373\u001b[0m     \u001b[38;5;124m\"\u001b[39m\u001b[38;5;124mtags\u001b[39m\u001b[38;5;124m\"\u001b[39m: tags,\n\u001b[0;32m    374\u001b[0m     \u001b[38;5;124m\"\u001b[39m\u001b[38;5;124mmetadata\u001b[39m\u001b[38;5;124m\"\u001b[39m: metadata,\n\u001b[0;32m    375\u001b[0m     \u001b[38;5;124m\"\u001b[39m\u001b[38;5;124mrun_name\u001b[39m\u001b[38;5;124m\"\u001b[39m: run_name,\n\u001b[0;32m    376\u001b[0m }\n\u001b[1;32m--> 378\u001b[0m \u001b[38;5;28;01mreturn\u001b[39;00m \u001b[38;5;28;43mself\u001b[39;49m\u001b[38;5;241;43m.\u001b[39;49m\u001b[43minvoke\u001b[49m\u001b[43m(\u001b[49m\n\u001b[0;32m    379\u001b[0m \u001b[43m    \u001b[49m\u001b[43minputs\u001b[49m\u001b[43m,\u001b[49m\n\u001b[0;32m    380\u001b[0m \u001b[43m    \u001b[49m\u001b[43mcast\u001b[49m\u001b[43m(\u001b[49m\u001b[43mRunnableConfig\u001b[49m\u001b[43m,\u001b[49m\u001b[43m \u001b[49m\u001b[43m{\u001b[49m\u001b[43mk\u001b[49m\u001b[43m:\u001b[49m\u001b[43m \u001b[49m\u001b[43mv\u001b[49m\u001b[43m \u001b[49m\u001b[38;5;28;43;01mfor\u001b[39;49;00m\u001b[43m \u001b[49m\u001b[43mk\u001b[49m\u001b[43m,\u001b[49m\u001b[43m \u001b[49m\u001b[43mv\u001b[49m\u001b[43m \u001b[49m\u001b[38;5;129;43;01min\u001b[39;49;00m\u001b[43m \u001b[49m\u001b[43mconfig\u001b[49m\u001b[38;5;241;43m.\u001b[39;49m\u001b[43mitems\u001b[49m\u001b[43m(\u001b[49m\u001b[43m)\u001b[49m\u001b[43m \u001b[49m\u001b[38;5;28;43;01mif\u001b[39;49;00m\u001b[43m \u001b[49m\u001b[43mv\u001b[49m\u001b[43m \u001b[49m\u001b[38;5;129;43;01mis\u001b[39;49;00m\u001b[43m \u001b[49m\u001b[38;5;129;43;01mnot\u001b[39;49;00m\u001b[43m \u001b[49m\u001b[38;5;28;43;01mNone\u001b[39;49;00m\u001b[43m}\u001b[49m\u001b[43m)\u001b[49m\u001b[43m,\u001b[49m\n\u001b[0;32m    381\u001b[0m \u001b[43m    \u001b[49m\u001b[43mreturn_only_outputs\u001b[49m\u001b[38;5;241;43m=\u001b[39;49m\u001b[43mreturn_only_outputs\u001b[49m\u001b[43m,\u001b[49m\n\u001b[0;32m    382\u001b[0m \u001b[43m    \u001b[49m\u001b[43minclude_run_info\u001b[49m\u001b[38;5;241;43m=\u001b[39;49m\u001b[43minclude_run_info\u001b[49m\u001b[43m,\u001b[49m\n\u001b[0;32m    383\u001b[0m \u001b[43m\u001b[49m\u001b[43m)\u001b[49m\n",
      "File \u001b[1;32mc:\\Users\\ADMIN\\Documents\\Data Analytics\\Machine Learning\\NLP\\NLP Projects\\Chat_with_Mpesa_Statements\\venv\\lib\\site-packages\\langchain\\chains\\base.py:163\u001b[0m, in \u001b[0;36mChain.invoke\u001b[1;34m(self, input, config, **kwargs)\u001b[0m\n\u001b[0;32m    161\u001b[0m \u001b[38;5;28;01mexcept\u001b[39;00m \u001b[38;5;167;01mBaseException\u001b[39;00m \u001b[38;5;28;01mas\u001b[39;00m e:\n\u001b[0;32m    162\u001b[0m     run_manager\u001b[38;5;241m.\u001b[39mon_chain_error(e)\n\u001b[1;32m--> 163\u001b[0m     \u001b[38;5;28;01mraise\u001b[39;00m e\n\u001b[0;32m    164\u001b[0m run_manager\u001b[38;5;241m.\u001b[39mon_chain_end(outputs)\n\u001b[0;32m    166\u001b[0m \u001b[38;5;28;01mif\u001b[39;00m include_run_info:\n",
      "File \u001b[1;32mc:\\Users\\ADMIN\\Documents\\Data Analytics\\Machine Learning\\NLP\\NLP Projects\\Chat_with_Mpesa_Statements\\venv\\lib\\site-packages\\langchain\\chains\\base.py:151\u001b[0m, in \u001b[0;36mChain.invoke\u001b[1;34m(self, input, config, **kwargs)\u001b[0m\n\u001b[0;32m    145\u001b[0m run_manager \u001b[38;5;241m=\u001b[39m callback_manager\u001b[38;5;241m.\u001b[39mon_chain_start(\n\u001b[0;32m    146\u001b[0m     dumpd(\u001b[38;5;28mself\u001b[39m),\n\u001b[0;32m    147\u001b[0m     inputs,\n\u001b[0;32m    148\u001b[0m     name\u001b[38;5;241m=\u001b[39mrun_name,\n\u001b[0;32m    149\u001b[0m )\n\u001b[0;32m    150\u001b[0m \u001b[38;5;28;01mtry\u001b[39;00m:\n\u001b[1;32m--> 151\u001b[0m     \u001b[38;5;28;43mself\u001b[39;49m\u001b[38;5;241;43m.\u001b[39;49m\u001b[43m_validate_inputs\u001b[49m\u001b[43m(\u001b[49m\u001b[43minputs\u001b[49m\u001b[43m)\u001b[49m\n\u001b[0;32m    152\u001b[0m     outputs \u001b[38;5;241m=\u001b[39m (\n\u001b[0;32m    153\u001b[0m         \u001b[38;5;28mself\u001b[39m\u001b[38;5;241m.\u001b[39m_call(inputs, run_manager\u001b[38;5;241m=\u001b[39mrun_manager)\n\u001b[0;32m    154\u001b[0m         \u001b[38;5;28;01mif\u001b[39;00m new_arg_supported\n\u001b[0;32m    155\u001b[0m         \u001b[38;5;28;01melse\u001b[39;00m \u001b[38;5;28mself\u001b[39m\u001b[38;5;241m.\u001b[39m_call(inputs)\n\u001b[0;32m    156\u001b[0m     )\n\u001b[0;32m    158\u001b[0m     final_outputs: Dict[\u001b[38;5;28mstr\u001b[39m, Any] \u001b[38;5;241m=\u001b[39m \u001b[38;5;28mself\u001b[39m\u001b[38;5;241m.\u001b[39mprep_outputs(\n\u001b[0;32m    159\u001b[0m         inputs, outputs, return_only_outputs\n\u001b[0;32m    160\u001b[0m     )\n",
      "File \u001b[1;32mc:\\Users\\ADMIN\\Documents\\Data Analytics\\Machine Learning\\NLP\\NLP Projects\\Chat_with_Mpesa_Statements\\venv\\lib\\site-packages\\langchain\\chains\\base.py:279\u001b[0m, in \u001b[0;36mChain._validate_inputs\u001b[1;34m(self, inputs)\u001b[0m\n\u001b[0;32m    277\u001b[0m missing_keys \u001b[38;5;241m=\u001b[39m \u001b[38;5;28mset\u001b[39m(\u001b[38;5;28mself\u001b[39m\u001b[38;5;241m.\u001b[39minput_keys)\u001b[38;5;241m.\u001b[39mdifference(inputs)\n\u001b[0;32m    278\u001b[0m \u001b[38;5;28;01mif\u001b[39;00m missing_keys:\n\u001b[1;32m--> 279\u001b[0m     \u001b[38;5;28;01mraise\u001b[39;00m \u001b[38;5;167;01mValueError\u001b[39;00m(\u001b[38;5;124mf\u001b[39m\u001b[38;5;124m\"\u001b[39m\u001b[38;5;124mMissing some input keys: \u001b[39m\u001b[38;5;132;01m{\u001b[39;00mmissing_keys\u001b[38;5;132;01m}\u001b[39;00m\u001b[38;5;124m\"\u001b[39m)\n",
      "\u001b[1;31mValueError\u001b[0m: Missing some input keys: {\"'Answer'\"}"
     ]
    }
   ],
   "source": [
    "chain.run(input=\"What is the total amount of money withdrawn\")"
   ]
  },
  {
   "cell_type": "code",
   "execution_count": 157,
   "metadata": {},
   "outputs": [],
   "source": [
    "def generate_answer(input_question):\n",
    "    response = chain.run(input=input_question)\n",
    "    print(response)\n",
    "    code = extract_code(response)\n",
    "    print(eval(code))\n",
    "    "
   ]
  },
  {
   "cell_type": "code",
   "execution_count": 158,
   "metadata": {},
   "outputs": [
    {
     "name": "stdout",
     "output_type": "stream",
     "text": [
      "\n",
      "\n",
      "\u001b[1m> Entering new LLMChain chain...\u001b[0m\n",
      "Prompt after formatting:\n",
      "\u001b[32;1m\u001b[1;3m\n",
      "You are a financial advisor with knowdlege analysing data using pandas. \n",
      "You will be provided with the columns details of a pandas data frame and you\n",
      "should generate the result based on the user's question. The dataframe conisists of transactions\n",
      "made by a user on Mpesa platform, which is a mobile money platform. \n",
      "\n",
      "Given input question, first create a syntatically correct pandas syntax and return the syntax\n",
      "as an executable python code. \n",
      "\n",
      "The dataframe name is df and only use the columns in the dataframe.\n",
      "\n",
      "\n",
      "\n",
      "Pay attention to use current_date = datetime.date.today() to get the current date, if the question involves \"today\".\n",
      "\n",
      "\n",
      "The following are the column names and their descriptions:\n",
      "'Receipt No.': Unique identifier for each mpesa transaction done. \n",
      "'Completion Time': The timestamp for when the transaction was completed\n",
      "'Details': The details of the transaction\n",
      "'Name': The Account Name for the transaction done\n",
      "'Transaction_Type': The type of transaction; These are the type of transactions:['Mpesa Charges', 'Pay Bill', 'Bank Payment', 'Till No',\n",
      "       'Send Money', 'Airtime Purchase', 'Receive Money', 'Pochi',\n",
      "       'Other', 'M-Shwari Loan', 'Mshwari Withdraw', 'Mshwari Deposit',\n",
      "       'Cash Withdrawal', 'Customer Deposit']\n",
      "'Paid In': The amount that was received in their Mpesa Account. \n",
      "'Withdrawn': the Amount that was withdrawn or sent from their account\n",
      "'Balance': the balance remaining after the transaction was made\n",
      "\n",
      "Here's the dataframe information: \n",
      "Data columns (total 8 columns):\n",
      " #   Column            Non-Null Count  Dtype  \n",
      "---  ------            --------------  -----  \n",
      " 0   Receipt No.       3508 non-null   object \n",
      " 1   Completion Time   3508 non-null   object \n",
      " 2   Details           3508 non-null   object \n",
      " 3   Name              3508 non-null   object \n",
      " 4   Transaction_Type  3508 non-null   object \n",
      " 5   Paid In           3508 non-null   float64\n",
      " 6   Withdrawn         3508 non-null   float64\n",
      " 7   Balance           3508 non-null   float64\n",
      "\n",
      "Answer: Return the answer as a dictionary like this: 'Answer':'pandas syntax'\n",
      "\n",
      "\n",
      "\n",
      "\n",
      "Question: What is the total amount of money withdrawn for each transaction type?\n",
      "Answer: df.groupby(\"Transaction_Type\")[\"Withdrawn\"].sum()\n",
      "\n",
      "\n",
      "Question: On average, how much do I withdraw per transaction?\n",
      "Answer: df[\"Withdrawn\"].mean()\n",
      "\n",
      "\n",
      "\n",
      "Question: What is the total amount of money withdrawn for each transaction type?\n",
      "\n",
      "\n",
      "\u001b[0m\n",
      "\n",
      "\u001b[1m> Finished chain.\u001b[0m\n",
      "Answer: {'Answer': 'df.groupby(\"Transaction_Type\")[\"Withdrawn\"].sum()'}\n",
      "Extracted Python code: Answer\n"
     ]
    },
    {
     "ename": "NameError",
     "evalue": "name 'Answer' is not defined",
     "output_type": "error",
     "traceback": [
      "\u001b[1;31m---------------------------------------------------------------------------\u001b[0m",
      "\u001b[1;31mNameError\u001b[0m                                 Traceback (most recent call last)",
      "Cell \u001b[1;32mIn[158], line 2\u001b[0m\n\u001b[0;32m      1\u001b[0m input_question \u001b[38;5;241m=\u001b[39m \u001b[38;5;124m\"\u001b[39m\u001b[38;5;124mWhat is the total amount of money withdrawn for each transaction type?\u001b[39m\u001b[38;5;124m\"\u001b[39m\n\u001b[1;32m----> 2\u001b[0m \u001b[43mgenerate_answer\u001b[49m\u001b[43m(\u001b[49m\u001b[43minput_question\u001b[49m\u001b[43m)\u001b[49m\n",
      "Cell \u001b[1;32mIn[157], line 5\u001b[0m, in \u001b[0;36mgenerate_answer\u001b[1;34m(input_question)\u001b[0m\n\u001b[0;32m      3\u001b[0m \u001b[38;5;28mprint\u001b[39m(response)\n\u001b[0;32m      4\u001b[0m code \u001b[38;5;241m=\u001b[39m extract_code(response)\n\u001b[1;32m----> 5\u001b[0m \u001b[38;5;28mprint\u001b[39m(\u001b[38;5;28;43meval\u001b[39;49m\u001b[43m(\u001b[49m\u001b[43mcode\u001b[49m\u001b[43m)\u001b[49m)\n",
      "File \u001b[1;32m<string>:1\u001b[0m\n",
      "\u001b[1;31mNameError\u001b[0m: name 'Answer' is not defined"
     ]
    }
   ],
   "source": [
    "input_question = \"What is the total amount of money withdrawn for each transaction type?\"\n",
    "generate_answer(input_question)"
   ]
  },
  {
   "cell_type": "code",
   "execution_count": 151,
   "metadata": {},
   "outputs": [
    {
     "name": "stdout",
     "output_type": "stream",
     "text": [
      "\n",
      "\n",
      "\u001b[1m> Entering new LLMChain chain...\u001b[0m\n",
      "Prompt after formatting:\n",
      "\u001b[32;1m\u001b[1;3m\n",
      "You are a financial advisor with knowdlege analysing data using pandas. \n",
      "You will be provided with the columns details of a pandas data frame and you\n",
      "should generate the result based on the user's question. The dataframe conisists of transactions\n",
      "made by a user on Mpesa platform, which is a mobile money platform. \n",
      "\n",
      "Given input question, first create a syntatically correct pandas syntax and return the syntax\n",
      "as an executable python code. \n",
      "\n",
      "The dataframe name is df and only use the columns in the dataframe.\n",
      "\n",
      "\n",
      "\n",
      "Pay attention to use current_date = datetime.date.today() to get the current date, if the question involves \"today\".\n",
      "\n",
      "\n",
      "The following are the column names and their descriptions:\n",
      "'Receipt No.': Unique identifier for each mpesa transaction done. \n",
      "'Completion Time': The timestamp for when the transaction was completed\n",
      "'Details': The details of the transaction\n",
      "'Name': The Account Name for the transaction done\n",
      "'Transaction_Type': The type of transaction; These are the type of transactions:['Mpesa Charges', 'Pay Bill', 'Bank Payment', 'Till No',\n",
      "       'Send Money', 'Airtime Purchase', 'Receive Money', 'Pochi',\n",
      "       'Other', 'M-Shwari Loan', 'Mshwari Withdraw', 'Mshwari Deposit',\n",
      "       'Cash Withdrawal', 'Customer Deposit']\n",
      "'Paid In': The amount that was received in their Mpesa Account. \n",
      "'Withdrawn': the Amount that was withdrawn or sent from their account\n",
      "'Balance': the balance remaining after the transaction was made\n",
      "\n",
      "Here's the dataframe information: \n",
      "Data columns (total 8 columns):\n",
      " #   Column            Non-Null Count  Dtype  \n",
      "---  ------            --------------  -----  \n",
      " 0   Receipt No.       3508 non-null   object \n",
      " 1   Completion Time   3508 non-null   object \n",
      " 2   Details           3508 non-null   object \n",
      " 3   Name              3508 non-null   object \n",
      " 4   Transaction_Type  3508 non-null   object \n",
      " 5   Paid In           3508 non-null   float64\n",
      " 6   Withdrawn         3508 non-null   float64\n",
      " 7   Balance           3508 non-null   float64\n",
      "\n",
      "Answer: Return the answer as a dictionary like this: 'Answer':'pandas syntax'\n",
      "\n",
      "\n",
      "\n",
      "\n",
      "Question: What different types of transactions have I engaged in?\n",
      "Answer: df[\"Transaction_Type\"].unique()\n",
      "\n",
      "\n",
      "Question: I want to know how many transactions I've made in total. Could you count them for me?\n",
      "Answer: len(df)\n",
      "\n",
      "\n",
      "\n",
      "Question: What different types of transactions have I engaged in?\n",
      "\n",
      "\n",
      "\u001b[0m\n",
      "\n",
      "\u001b[1m> Finished chain.\u001b[0m\n",
      "Extracted Python code: df.Withdrawn.sum()\n",
      "4682310.08\n"
     ]
    }
   ],
   "source": [
    "input_question = \"What different types of transactions have I engaged in?\"\n",
    "generate_answer(input_question)"
   ]
  }
 ],
 "metadata": {
  "kernelspec": {
   "display_name": "Python 3",
   "language": "python",
   "name": "python3"
  },
  "language_info": {
   "codemirror_mode": {
    "name": "ipython",
    "version": 3
   },
   "file_extension": ".py",
   "mimetype": "text/x-python",
   "name": "python",
   "nbconvert_exporter": "python",
   "pygments_lexer": "ipython3",
   "version": "3.10.0"
  }
 },
 "nbformat": 4,
 "nbformat_minor": 2
}
